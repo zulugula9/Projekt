{
  "nbformat": 4,
  "nbformat_minor": 0,
  "metadata": {
    "colab": {
      "provenance": [],
      "authorship_tag": "ABX9TyOSeAM91qTg728q5NYOVIxv",
      "include_colab_link": true
    },
    "kernelspec": {
      "name": "python3",
      "display_name": "Python 3"
    },
    "language_info": {
      "name": "python"
    }
  },
  "cells": [
    {
      "cell_type": "markdown",
      "metadata": {
        "id": "view-in-github",
        "colab_type": "text"
      },
      "source": [
        "<a href=\"https://colab.research.google.com/github/zulugula9/Projekt/blob/main/Kopia_notatnika_Laboratorium_1.ipynb\" target=\"_parent\"><img src=\"https://colab.research.google.com/assets/colab-badge.svg\" alt=\"Open In Colab\"/></a>"
      ]
    },
    {
      "cell_type": "code",
      "execution_count": null,
      "metadata": {
        "colab": {
          "base_uri": "https://localhost:8080/"
        },
        "id": "UT7ACXVcPmS7",
        "outputId": "e6d8e13d-82b3-4227-b58a-0198b0a62739"
      },
      "outputs": [
        {
          "output_type": "stream",
          "name": "stdout",
          "text": [
            "Requirement already satisfied: ucimlrepo in /usr/local/lib/python3.12/dist-packages (0.0.7)\n",
            "Requirement already satisfied: pandas>=1.0.0 in /usr/local/lib/python3.12/dist-packages (from ucimlrepo) (2.2.2)\n",
            "Requirement already satisfied: certifi>=2020.12.5 in /usr/local/lib/python3.12/dist-packages (from ucimlrepo) (2025.8.3)\n",
            "Requirement already satisfied: numpy>=1.26.0 in /usr/local/lib/python3.12/dist-packages (from pandas>=1.0.0->ucimlrepo) (2.0.2)\n",
            "Requirement already satisfied: python-dateutil>=2.8.2 in /usr/local/lib/python3.12/dist-packages (from pandas>=1.0.0->ucimlrepo) (2.9.0.post0)\n",
            "Requirement already satisfied: pytz>=2020.1 in /usr/local/lib/python3.12/dist-packages (from pandas>=1.0.0->ucimlrepo) (2025.2)\n",
            "Requirement already satisfied: tzdata>=2022.7 in /usr/local/lib/python3.12/dist-packages (from pandas>=1.0.0->ucimlrepo) (2025.2)\n",
            "Requirement already satisfied: six>=1.5 in /usr/local/lib/python3.12/dist-packages (from python-dateutil>=2.8.2->pandas>=1.0.0->ucimlrepo) (1.17.0)\n"
          ]
        }
      ],
      "source": [
        "pip install ucimlrepo\n"
      ]
    },
    {
      "cell_type": "code",
      "source": [
        "from ucimlrepo import fetch_ucirepo\n",
        "\n",
        "# fetch dataset\n",
        "stock_portfolio_performance = fetch_ucirepo(id=390)\n",
        "\n",
        "# data (as pandas dataframes)\n",
        "X = stock_portfolio_performance.data.features\n",
        "y = stock_portfolio_performance.data.targets\n",
        "\n",
        "# metadata\n",
        "print(stock_portfolio_performance.metadata)\n",
        "\n",
        "# variable information\n",
        "print(stock_portfolio_performance.variables)"
      ],
      "metadata": {
        "colab": {
          "base_uri": "https://localhost:8080/"
        },
        "id": "zo3Yy0ykP8Xp",
        "outputId": "5ac52592-2cef-4da8-e16e-a42a0d49a522"
      },
      "execution_count": null,
      "outputs": [
        {
          "output_type": "stream",
          "name": "stdout",
          "text": [
            "{'uci_id': 390, 'name': 'Stock Portfolio Performance', 'repository_url': 'https://archive.ics.uci.edu/dataset/390/stock+portfolio+performance', 'data_url': 'https://archive.ics.uci.edu/static/public/390/data.csv', 'abstract': 'The data set of performances of weighted scoring stock portfolios are obtained with mixture design from the US stock market historical database.', 'area': 'Business', 'tasks': ['Regression'], 'characteristics': ['Multivariate'], 'num_instances': 315, 'num_features': 12, 'feature_types': ['Real'], 'demographics': [], 'target_col': ['Annual Return', 'Excess Return', 'Systematic Risk', 'Total Risk', 'Abs. Win Rate', 'Rel. Win Rate'], 'index_col': ['period', 'ID'], 'has_missing_values': 'no', 'missing_values_symbol': None, 'year_of_dataset_creation': 2015, 'last_updated': 'Thu Mar 28 2024', 'dataset_doi': '10.24432/C5SC7G', 'creators': ['I-Cheng Yeh'], 'intro_paper': {'ID': 450, 'type': 'NATIVE', 'title': 'Using mixture design and neural networks to build stock selection decision support systems', 'authors': 'Yi-Cheng Liu, I. Yeh', 'venue': 'Neural computing & applications (Print)', 'year': 2017, 'journal': None, 'DOI': None, 'URL': 'https://www.semanticscholar.org/paper/Using-mixture-design-and-neural-networks-to-build-Liu-Yeh/8d34c4569482479d53526ac2efe17af9957ae259', 'sha': None, 'corpus': None, 'arxiv': None, 'mag': None, 'acl': None, 'pmid': None, 'pmcid': None}, 'additional_info': {'summary': 'There are three disadvantages of weighted scoring stock selection models. First, they cannot identify the relations between weights of stock-picking concepts and performances of portfolios. Second, they cannot systematically discover the optimal combination for weights of concepts to optimize the performances. Third, they are unable to meet various investorsâ€™ preferences. This study aims to more efficiently construct weighted scoring stock selection models to overcome these disadvantages. Since the weights of stock-picking concepts in a weighted scoring stock selection model can be regarded as components in a mixture, we used the simplex centroid mixture design to obtain the experimental sets of weights. These sets of weights are simulated with US stock market historical data to obtain their performances. Performance prediction models were built with the simulated performance data set and artificial neural networks. Furthermore, the optimization models to reflect investorsâ€™ preferences were built up, and the performance prediction models were employed as the kernel of the optimization models so that the optimal solutions can now be solved with optimization techniques. The empirical values of the performances of the optimal weighting combinations generated by the optimization models showed that they can meet various investorsâ€™ preferences and outperform those of S&Pâ€™s 500 not only during the training period but also during the testing period.', 'purpose': None, 'funded_by': None, 'instances_represent': None, 'recommended_data_splits': None, 'sensitive_data': None, 'preprocessing_description': None, 'variable_info': 'The inputs are the weights of the stock-picking concepts as follows\\r\\nX1=the weight of the Large B/P concept\\r\\nX2=the weight of the Large ROE concept\\r\\nX3=the weight of the Large S/P concept\\r\\nX4=the weight of the Large Return Rate in the last quarter concept\\r\\nX5=the weight of the Large Market Value concept\\r\\nX6=the weight of the Small systematic Risk concept\\r\\n\\r\\nThe outputs are the investment performance indicators (normalized) as follows\\r\\nY1=Annual Return\\r\\nY2=Excess Return\\r\\nY3=Systematic Risk\\r\\nY4=Total Risk\\r\\nY5=Abs. Win Rate\\r\\nY6=Rel. Win Rate', 'citation': None}}\n",
            "                                     name     role         type demographic  \\\n",
            "0                                  period       ID  Categorical        None   \n",
            "1                                      ID       ID      Integer        None   \n",
            "2                               Large B/P  Feature   Continuous        None   \n",
            "3                               Large ROE  Feature   Continuous        None   \n",
            "4                               Large S/P  Feature   Continuous        None   \n",
            "5   Large Return Rate in the last quarter  Feature   Continuous        None   \n",
            "6                      Large Market Value  Feature   Continuous        None   \n",
            "7                   Small systematic Risk  Feature   Continuous        None   \n",
            "8                           Annual Return  Feature  Categorical        None   \n",
            "9                           Excess Return  Feature  Categorical        None   \n",
            "10                        Systematic Risk  Feature   Continuous        None   \n",
            "11                             Total Risk  Feature  Categorical        None   \n",
            "12                          Abs. Win Rate  Feature  Categorical        None   \n",
            "13                          Rel. Win Rate  Feature  Categorical        None   \n",
            "14                          Annual Return   Target   Continuous        None   \n",
            "15                          Excess Return   Target   Continuous        None   \n",
            "16                        Systematic Risk   Target   Continuous        None   \n",
            "17                             Total Risk   Target   Continuous        None   \n",
            "18                          Abs. Win Rate   Target   Continuous        None   \n",
            "19                          Rel. Win Rate   Target   Continuous        None   \n",
            "\n",
            "   description units missing_values  \n",
            "0         None  None             no  \n",
            "1         None  None             no  \n",
            "2         None  None             no  \n",
            "3         None  None             no  \n",
            "4         None  None             no  \n",
            "5         None  None             no  \n",
            "6         None  None             no  \n",
            "7         None  None             no  \n",
            "8         None  None             no  \n",
            "9         None  None             no  \n",
            "10        None  None             no  \n",
            "11        None  None             no  \n",
            "12        None  None             no  \n",
            "13        None  None             no  \n",
            "14        None  None             no  \n",
            "15        None  None             no  \n",
            "16        None  None             no  \n",
            "17        None  None             no  \n",
            "18        None  None             no  \n",
            "19        None  None             no  \n"
          ]
        }
      ]
    },
    {
      "cell_type": "code",
      "source": [
        "print(\"\\nNazwy kolumn (cechy):\")\n",
        "print(X.columns.tolist())\n",
        "\n",
        "print(\"\\nPierwszy wiersz danych :\")\n",
        "print(X.iloc[0])\n",
        "\n",
        "print(\"\\nPierwsza kolumna danych :\")\n",
        "print(X.iloc[:, 0])\n",
        "\n",
        "print(\"\\nOstatnia kolumna danych :\")\n",
        "print(X.iloc[:, -1])\n",
        "\n",
        "print(\"\\nZbiór X :\")\n",
        "print(X.head())\n",
        "\n",
        "print(\"\\nZbiór Y :\")\n",
        "print(y.head())"
      ],
      "metadata": {
        "colab": {
          "base_uri": "https://localhost:8080/"
        },
        "id": "C6OOxKlrQI04",
        "outputId": "015a7418-18b0-44d7-fd20-4ce8607aafe2"
      },
      "execution_count": null,
      "outputs": [
        {
          "output_type": "stream",
          "name": "stdout",
          "text": [
            "\n",
            "Nazwy kolumn (cechy):\n",
            "['Large B/P', 'Large ROE', 'Large S/P', 'Large Return Rate in the last quarter', 'Large Market Value', 'Small systematic Risk', 'Annual Return', 'Excess Return', 'Systematic Risk', 'Total Risk', 'Abs. Win Rate', 'Rel. Win Rate']\n",
            "\n",
            "Pierwszy wiersz danych :\n",
            "Large B/P                                   1.0\n",
            "Large ROE                                   0.0\n",
            "Large S/P                                   0.0\n",
            "Large Return Rate in the last quarter       0.0\n",
            "Large Market Value                          0.0\n",
            "Small systematic Risk                       0.0\n",
            "Annual Return                            13.90%\n",
            "Excess Return                             1.00%\n",
            "Systematic Risk                            1.33\n",
            "Total Risk                               14.90%\n",
            "Abs. Win Rate                            66.30%\n",
            "Rel. Win Rate                            52.50%\n",
            "Name: 0, dtype: object\n",
            "\n",
            "Pierwsza kolumna danych :\n",
            "0      1.000\n",
            "1      0.000\n",
            "2      0.000\n",
            "3      0.000\n",
            "4      0.000\n",
            "       ...  \n",
            "310    0.200\n",
            "311    0.200\n",
            "312    0.200\n",
            "313    0.000\n",
            "314    0.167\n",
            "Name: Large B/P, Length: 315, dtype: float64\n",
            "\n",
            "Ostatnia kolumna danych :\n",
            "0      52.50%\n",
            "1      65.00%\n",
            "2      51.30%\n",
            "3      47.50%\n",
            "4      53.80%\n",
            "        ...  \n",
            "310    65.00%\n",
            "311    60.00%\n",
            "312    50.00%\n",
            "313    65.00%\n",
            "314    75.00%\n",
            "Name: Rel. Win Rate, Length: 315, dtype: object\n",
            "\n",
            "Oddzielono atrybut decyzyjny 'Annual Return' i zapisano go do zmiennej Y.\n",
            "\n",
            "Zbiór X :\n",
            "   Large B/P  Large ROE  Large S/P  Large Return Rate in the last quarter  \\\n",
            "0        1.0        0.0        0.0                                    0.0   \n",
            "1        0.0        1.0        0.0                                    0.0   \n",
            "2        0.0        0.0        1.0                                    0.0   \n",
            "3        0.0        0.0        0.0                                    1.0   \n",
            "4        0.0        0.0        0.0                                    0.0   \n",
            "\n",
            "   Large Market Value  Small systematic Risk Annual Return Excess Return  \\\n",
            "0                 0.0                    0.0        13.90%         1.00%   \n",
            "1                 0.0                    0.0        14.30%         1.00%   \n",
            "2                 0.0                    0.0        17.30%         1.80%   \n",
            "3                 0.0                    0.0         9.60%        -0.20%   \n",
            "4                 1.0                    0.0         9.60%         0.10%   \n",
            "\n",
            "   Systematic Risk Total Risk Abs. Win Rate Rel. Win Rate  \n",
            "0             1.33     14.90%        66.30%        52.50%  \n",
            "1             1.17     10.80%        66.30%        65.00%  \n",
            "2             1.30     14.40%        63.80%        51.30%  \n",
            "3             1.39     14.40%        61.30%        47.50%  \n",
            "4             1.04      8.70%        72.50%        53.80%  \n",
            "\n",
            "Zbiór Y :\n",
            "  Annual Return Excess Return  Systematic Risk Total Risk Abs. Win Rate  \\\n",
            "0        13.90%         1.00%             1.33     14.90%        66.30%   \n",
            "1        14.30%         1.00%             1.17     10.80%        66.30%   \n",
            "2        17.30%         1.80%             1.30     14.40%        63.80%   \n",
            "3         9.60%        -0.20%             1.39     14.40%        61.30%   \n",
            "4         9.60%         0.10%             1.04      8.70%        72.50%   \n",
            "\n",
            "  Rel. Win Rate  \n",
            "0        52.50%  \n",
            "1        65.00%  \n",
            "2        51.30%  \n",
            "3        47.50%  \n",
            "4        53.80%  \n",
            "\n",
            "Liczba przypadków: 315\n",
            "\n",
            "Informacje o atrybutach :\n",
            "<class 'pandas.core.frame.DataFrame'>\n",
            "RangeIndex: 315 entries, 0 to 314\n",
            "Data columns (total 12 columns):\n",
            " #   Column                                 Non-Null Count  Dtype  \n",
            "---  ------                                 --------------  -----  \n",
            " 0   Large B/P                              315 non-null    float64\n",
            " 1   Large ROE                              315 non-null    float64\n",
            " 2   Large S/P                              315 non-null    float64\n",
            " 3   Large Return Rate in the last quarter  315 non-null    float64\n",
            " 4   Large Market Value                     315 non-null    float64\n",
            " 5   Small systematic Risk                  315 non-null    float64\n",
            " 6   Annual Return                          315 non-null    object \n",
            " 7   Excess Return                          315 non-null    object \n",
            " 8   Systematic Risk                        315 non-null    float64\n",
            " 9   Total Risk                             315 non-null    object \n",
            " 10  Abs. Win Rate                          315 non-null    object \n",
            " 11  Rel. Win Rate                          315 non-null    object \n",
            "dtypes: float64(7), object(5)\n",
            "memory usage: 29.7+ KB\n",
            "None\n",
            "\n",
            "Liczba unikalnych wartości w poszczególnych atrybutach :\n",
            "Large B/P                                  7\n",
            "Large ROE                                  7\n",
            "Large S/P                                  7\n",
            "Large Return Rate in the last quarter      7\n",
            "Large Market Value                         7\n",
            "Small systematic Risk                      7\n",
            "Annual Return                            282\n",
            "Excess Return                            227\n",
            "Systematic Risk                          286\n",
            "Total Risk                               240\n",
            "Abs. Win Rate                             21\n",
            "Rel. Win Rate                             28\n",
            "dtype: int64\n",
            "\n",
            "Atrybut decyzyjny: Annual Return\n",
            "\n",
            "Liczba unikalnych wartości atrybutu decyzyjnego: 282\n"
          ]
        }
      ]
    },
    {
      "cell_type": "code",
      "source": [
        "missing_summary = pd.DataFrame({\n",
        "    'Attribute': X.columns,\n",
        "    'Nulls': X.isnull().any().values,\n",
        "    'Count': X.isnull().sum().values,\n",
        "    'Percent': (X.isnull().sum() / X.shape[0] * 100).values\n",
        "})\n",
        "\n",
        "print(\"\\n\",missing_summary)"
      ],
      "metadata": {
        "colab": {
          "base_uri": "https://localhost:8080/"
        },
        "id": "RsuM02eHPu_p",
        "outputId": "d6937558-9442-44b7-bd8c-65ffe1a291e3"
      },
      "execution_count": null,
      "outputs": [
        {
          "output_type": "stream",
          "name": "stdout",
          "text": [
            "\n",
            "                                 Attribute  Nulls  Count  Percent\n",
            "0                               Large B/P  False      0      0.0\n",
            "1                               Large ROE  False      0      0.0\n",
            "2                               Large S/P  False      0      0.0\n",
            "3   Large Return Rate in the last quarter  False      0      0.0\n",
            "4                      Large Market Value  False      0      0.0\n",
            "5                   Small systematic Risk  False      0      0.0\n",
            "6                           Annual Return  False      0      0.0\n",
            "7                           Excess Return  False      0      0.0\n",
            "8                         Systematic Risk  False      0      0.0\n",
            "9                              Total Risk  False      0      0.0\n",
            "10                          Abs. Win Rate  False      0      0.0\n",
            "11                          Rel. Win Rate  False      0      0.0\n"
          ]
        }
      ]
    },
    {
      "cell_type": "code",
      "source": [
        "dane_bez_na = X.dropna()\n",
        "\n",
        "y_bez_na = y.loc[dane_bez_na.index]\n",
        "\n",
        "print(dane_bez_na)\n",
        "\n",
        "print(y_bez_na)\n"
      ],
      "metadata": {
        "colab": {
          "base_uri": "https://localhost:8080/"
        },
        "id": "-rQA1MLLQSiP",
        "outputId": "d24e2c20-78c9-45a1-b4e0-d6ca5f0842b6"
      },
      "execution_count": null,
      "outputs": [
        {
          "output_type": "stream",
          "name": "stdout",
          "text": [
            "\n",
            "                                 Attribute  Nulls  Count  Percent\n",
            "0                               Large B/P  False      0      0.0\n",
            "1                               Large ROE  False      0      0.0\n",
            "2                               Large S/P  False      0      0.0\n",
            "3   Large Return Rate in the last quarter  False      0      0.0\n",
            "4                      Large Market Value  False      0      0.0\n",
            "5                   Small systematic Risk  False      0      0.0\n",
            "6                           Annual Return  False      0      0.0\n",
            "7                           Excess Return  False      0      0.0\n",
            "8                         Systematic Risk  False      0      0.0\n",
            "9                              Total Risk  False      0      0.0\n",
            "10                          Abs. Win Rate  False      0      0.0\n",
            "11                          Rel. Win Rate  False      0      0.0\n"
          ]
        }
      ]
    },
    {
      "cell_type": "code",
      "source": [
        "from sklearn.preprocessing import StandardScaler"
      ],
      "metadata": {
        "id": "lNtyqw2rQfzb"
      },
      "execution_count": null,
      "outputs": []
    },
    {
      "cell_type": "code",
      "source": [
        "percent_columns = ['Annual Return', 'Excess Return', 'Total Risk', 'Abs. Win Rate', 'Rel. Win Rate']\n",
        "\n",
        "for col in percent_columns:\n",
        "    # Usuń znak '%' jeśli jest i konwertuj na float\n",
        "    dane_bez_na[col] = dane_bez_na[col].str.rstrip('%').astype(float)"
      ],
      "metadata": {
        "id": "1jiPON4DSGMb"
      },
      "execution_count": null,
      "outputs": []
    },
    {
      "cell_type": "code",
      "source": [
        "scaler = StandardScaler()\n",
        "X_scaled = scaler.fit_transform(dane_bez_na)\n",
        "\n"
      ],
      "metadata": {
        "id": "BASv4Og6SIhD"
      },
      "execution_count": null,
      "outputs": []
    },
    {
      "cell_type": "code",
      "source": [
        "import pandas as pd\n",
        "X_scaled_df = pd.DataFrame(X_scaled, columns=dane_bez_na.columns, index=dane_bez_na.index)\n",
        "print(X_scaled_df.head())"
      ],
      "metadata": {
        "id": "R53J9zUrSmo6"
      },
      "execution_count": null,
      "outputs": []
    },
    {
      "cell_type": "code",
      "source": [
        "from sklearn.model_selection import train_test_split\n",
        "\n",
        "# Podział zbioru danych na zbiór uczący (2/3) i testujący (1/3)\n",
        "X_train, X_test, y_train, y_test = train_test_split(X_scaled_df, Y, test_size=1/3, random_state=42)\n",
        "\n",
        "print(\"Kształt zbioru uczącego (cechy):\", X_train.shape)\n",
        "print(\"Kształt zbioru testującego (cechy):\", X_test.shape)\n",
        "print(\"Kształt zbioru uczącego (etykiety):\", y_train.shape)\n",
        "print(\"Kształt zbioru testującego (etykiety):\", y_test.shape)"
      ],
      "metadata": {
        "colab": {
          "base_uri": "https://localhost:8080/"
        },
        "id": "SzSuHKUVSoxS",
        "outputId": "10a66d70-3838-4d13-9aea-03a892d2569b"
      },
      "execution_count": null,
      "outputs": [
        {
          "output_type": "stream",
          "name": "stdout",
          "text": [
            "Kształt zbioru uczącego (cechy): (210, 12)\n",
            "Kształt zbioru testującego (cechy): (105, 12)\n",
            "Kształt zbioru uczącego (etykiety): (210,)\n",
            "Kształt zbioru testującego (etykiety): (105,)\n"
          ]
        }
      ]
    }
  ]
}